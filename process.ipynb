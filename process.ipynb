{
 "cells": [
  {
   "cell_type": "code",
   "execution_count": 2,
   "metadata": {},
   "outputs": [],
   "source": [
    "import pandas as pd\n",
    "import sklearn.metrics as metrics\n",
    "import numpy as np"
   ]
  },
  {
   "cell_type": "code",
   "execution_count": 33,
   "metadata": {},
   "outputs": [],
   "source": [
    "pd_xhululu_fake=pd.read_csv('out_xhululu_fake.csv')\n",
    "pd_xhululu_real=pd.read_csv('out_xhululu_real.csv')\n",
    "pd_xhululu_fake['target']= 0\n",
    "pd_xhululu_real['target']= 1\n",
    "pd_xhululu=pd.concat([pd_xhululu_fake,pd_xhululu_real],ignore_index = True)\n",
    "\n",
    "pd_xhululu['prediction'] = pd_xhululu['logit'].apply(lambda x : int(x<0))\n"
   ]
  },
  {
   "cell_type": "code",
   "execution_count": 34,
   "metadata": {},
   "outputs": [
    {
     "data": {
      "text/html": [
       "<div>\n",
       "<style scoped>\n",
       "    .dataframe tbody tr th:only-of-type {\n",
       "        vertical-align: middle;\n",
       "    }\n",
       "\n",
       "    .dataframe tbody tr th {\n",
       "        vertical-align: top;\n",
       "    }\n",
       "\n",
       "    .dataframe thead th {\n",
       "        text-align: right;\n",
       "    }\n",
       "</style>\n",
       "<table border=\"1\" class=\"dataframe\">\n",
       "  <thead>\n",
       "    <tr style=\"text-align: right;\">\n",
       "      <th></th>\n",
       "      <th>filename</th>\n",
       "      <th>logit</th>\n",
       "      <th>time</th>\n",
       "      <th>target</th>\n",
       "      <th>prediction</th>\n",
       "    </tr>\n",
       "  </thead>\n",
       "  <tbody>\n",
       "    <tr>\n",
       "      <th>0</th>\n",
       "      <td>../media-analysis-project-main/data/xhululu/re...</td>\n",
       "      <td>-4.359769</td>\n",
       "      <td>0.152972</td>\n",
       "      <td>0</td>\n",
       "      <td>1</td>\n",
       "    </tr>\n",
       "    <tr>\n",
       "      <th>1</th>\n",
       "      <td>../media-analysis-project-main/data/xhululu/re...</td>\n",
       "      <td>3.423121</td>\n",
       "      <td>0.042867</td>\n",
       "      <td>0</td>\n",
       "      <td>0</td>\n",
       "    </tr>\n",
       "    <tr>\n",
       "      <th>2</th>\n",
       "      <td>../media-analysis-project-main/data/xhululu/re...</td>\n",
       "      <td>3.100921</td>\n",
       "      <td>0.041247</td>\n",
       "      <td>0</td>\n",
       "      <td>0</td>\n",
       "    </tr>\n",
       "    <tr>\n",
       "      <th>3</th>\n",
       "      <td>../media-analysis-project-main/data/xhululu/re...</td>\n",
       "      <td>4.414319</td>\n",
       "      <td>0.042667</td>\n",
       "      <td>0</td>\n",
       "      <td>0</td>\n",
       "    </tr>\n",
       "    <tr>\n",
       "      <th>4</th>\n",
       "      <td>../media-analysis-project-main/data/xhululu/re...</td>\n",
       "      <td>-0.464620</td>\n",
       "      <td>0.041855</td>\n",
       "      <td>0</td>\n",
       "      <td>1</td>\n",
       "    </tr>\n",
       "    <tr>\n",
       "      <th>...</th>\n",
       "      <td>...</td>\n",
       "      <td>...</td>\n",
       "      <td>...</td>\n",
       "      <td>...</td>\n",
       "      <td>...</td>\n",
       "    </tr>\n",
       "    <tr>\n",
       "      <th>19995</th>\n",
       "      <td>../media-analysis-project-main/data/xhululu/re...</td>\n",
       "      <td>-8.267615</td>\n",
       "      <td>0.059790</td>\n",
       "      <td>1</td>\n",
       "      <td>1</td>\n",
       "    </tr>\n",
       "    <tr>\n",
       "      <th>19996</th>\n",
       "      <td>../media-analysis-project-main/data/xhululu/re...</td>\n",
       "      <td>-7.494914</td>\n",
       "      <td>0.058722</td>\n",
       "      <td>1</td>\n",
       "      <td>1</td>\n",
       "    </tr>\n",
       "    <tr>\n",
       "      <th>19997</th>\n",
       "      <td>../media-analysis-project-main/data/xhululu/re...</td>\n",
       "      <td>-11.342032</td>\n",
       "      <td>0.059115</td>\n",
       "      <td>1</td>\n",
       "      <td>1</td>\n",
       "    </tr>\n",
       "    <tr>\n",
       "      <th>19998</th>\n",
       "      <td>../media-analysis-project-main/data/xhululu/re...</td>\n",
       "      <td>-13.873199</td>\n",
       "      <td>0.059083</td>\n",
       "      <td>1</td>\n",
       "      <td>1</td>\n",
       "    </tr>\n",
       "    <tr>\n",
       "      <th>19999</th>\n",
       "      <td>../media-analysis-project-main/data/xhululu/re...</td>\n",
       "      <td>-15.155269</td>\n",
       "      <td>0.058774</td>\n",
       "      <td>1</td>\n",
       "      <td>1</td>\n",
       "    </tr>\n",
       "  </tbody>\n",
       "</table>\n",
       "<p>20000 rows × 5 columns</p>\n",
       "</div>"
      ],
      "text/plain": [
       "                                                filename      logit      time  \\\n",
       "0      ../media-analysis-project-main/data/xhululu/re...  -4.359769  0.152972   \n",
       "1      ../media-analysis-project-main/data/xhululu/re...   3.423121  0.042867   \n",
       "2      ../media-analysis-project-main/data/xhululu/re...   3.100921  0.041247   \n",
       "3      ../media-analysis-project-main/data/xhululu/re...   4.414319  0.042667   \n",
       "4      ../media-analysis-project-main/data/xhululu/re...  -0.464620  0.041855   \n",
       "...                                                  ...        ...       ...   \n",
       "19995  ../media-analysis-project-main/data/xhululu/re...  -8.267615  0.059790   \n",
       "19996  ../media-analysis-project-main/data/xhululu/re...  -7.494914  0.058722   \n",
       "19997  ../media-analysis-project-main/data/xhululu/re... -11.342032  0.059115   \n",
       "19998  ../media-analysis-project-main/data/xhululu/re... -13.873199  0.059083   \n",
       "19999  ../media-analysis-project-main/data/xhululu/re... -15.155269  0.058774   \n",
       "\n",
       "       target  prediction  \n",
       "0           0           1  \n",
       "1           0           0  \n",
       "2           0           0  \n",
       "3           0           0  \n",
       "4           0           1  \n",
       "...       ...         ...  \n",
       "19995       1           1  \n",
       "19996       1           1  \n",
       "19997       1           1  \n",
       "19998       1           1  \n",
       "19999       1           1  \n",
       "\n",
       "[20000 rows x 5 columns]"
      ]
     },
     "execution_count": 34,
     "metadata": {},
     "output_type": "execute_result"
    }
   ],
   "source": [
    "pd_xhululu\n"
   ]
  },
  {
   "cell_type": "code",
   "execution_count": 35,
   "metadata": {},
   "outputs": [],
   "source": [
    "target = pd_xhululu['target'].tolist()\n",
    "prediction = pd_xhululu['prediction'].tolist()"
   ]
  },
  {
   "cell_type": "code",
   "execution_count": 36,
   "metadata": {},
   "outputs": [],
   "source": [
    "acc= metrics.accuracy_score(target,prediction)\n",
    "precision=metrics.precision_score(target, prediction)\n",
    "recall = metrics.recall_score(target, prediction)\n",
    "f1 = (2 * precision * recall) / (precision + recall)"
   ]
  },
  {
   "cell_type": "code",
   "execution_count": 37,
   "metadata": {},
   "outputs": [
    {
     "data": {
      "text/plain": [
       "array([[7314, 2686],\n",
       "       [  11, 9989]])"
      ]
     },
     "execution_count": 37,
     "metadata": {},
     "output_type": "execute_result"
    }
   ],
   "source": [
    "metrics.confusion_matrix(target, prediction)"
   ]
  },
  {
   "cell_type": "code",
   "execution_count": 38,
   "metadata": {},
   "outputs": [
    {
     "name": "stdout",
     "output_type": "stream",
     "text": [
      "Accuracy = 0.8652\n",
      "Precision = 0.7881\n",
      "Recall = 0.9989\n",
      "F1 = 0.8811\n"
     ]
    }
   ],
   "source": [
    "print(f'Accuracy = {np.round(acc, 4)}')\n",
    "print(f'Precision = {np.round(precision, 4)}')\n",
    "print(f'Recall = {np.round(recall, 4)}')\n",
    "print(f'F1 = {np.round(f1, 4)}')"
   ]
  },
  {
   "cell_type": "code",
   "execution_count": null,
   "metadata": {},
   "outputs": [],
   "source": []
  }
 ],
 "metadata": {
  "kernelspec": {
   "display_name": "Python 3.10.6 64-bit",
   "language": "python",
   "name": "python3"
  },
  "language_info": {
   "codemirror_mode": {
    "name": "ipython",
    "version": 3
   },
   "file_extension": ".py",
   "mimetype": "text/x-python",
   "name": "python",
   "nbconvert_exporter": "python",
   "pygments_lexer": "ipython3",
   "version": "3.10.6"
  },
  "orig_nbformat": 4,
  "vscode": {
   "interpreter": {
    "hash": "e7370f93d1d0cde622a1f8e1c04877d8463912d04d973331ad4851f04de6915a"
   }
  }
 },
 "nbformat": 4,
 "nbformat_minor": 2
}
